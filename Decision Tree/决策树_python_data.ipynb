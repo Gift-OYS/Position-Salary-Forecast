{
 "cells": [
  {
   "cell_type": "code",
   "execution_count": 21,
   "id": "3550b16c",
   "metadata": {},
   "outputs": [],
   "source": [
    "import pandas as pd\n",
    "from sklearn.tree import DecisionTreeRegressor\n",
    "from sklearn.datasets import load_digits\n",
    "from sklearn.model_selection import train_test_split,GridSearchCV,cross_val_score\n",
    "from sklearn.metrics import accuracy_score\n",
    "import matplotlib.pyplot as plt\n",
    "import numpy as np\n",
    "from sklearn.model_selection import train_test_split\n",
    "java_data = pd.read_csv('./java_data1.csv')\n",
    "python_data = pd.read_csv('./python_data1.csv')\n",
    "mean_salary = (java_data['min_salary'] + java_data['max_salary']) / 2\n",
    "offset = mean_salary - java_data['min_salary']\n",
    "java_data = java_data.drop(['min_salary', 'max_salary'], axis = 1)\n",
    "java_data['mean_salary'] = mean_salary\n",
    "java_data['offset'] = offset\n",
    "\n",
    "mean_salary = (python_data['min_salary'] + python_data['max_salary']) / 2\n",
    "offset = mean_salary - python_data['min_salary']\n",
    "python_data = python_data.drop(['min_salary', 'max_salary'], axis = 1)\n",
    "python_data['mean_salary'] = mean_salary\n",
    "python_data['offset'] = offset\n",
    "\n",
    "#java\n",
    "X_java = python_data.drop(['mean_salary', 'offset'], axis = 1)\n",
    "y_java1 = python_data['mean_salary']\n",
    "y_java2 = python_data['offset']\n",
    "X_train1, X_test1, y_train1, y_test1 = train_test_split(X_java, y_java1, test_size = 0.2, random_state = 6)\n",
    "X_train2, X_test2, y_train2, y_test2 = train_test_split(X_java, y_java2, test_size = 0.2, random_state = 6)"
   ]
  },
  {
   "cell_type": "code",
   "execution_count": 24,
   "id": "e817a991",
   "metadata": {},
   "outputs": [
    {
     "data": {
      "text/html": [
       "<div>\n",
       "<style scoped>\n",
       "    .dataframe tbody tr th:only-of-type {\n",
       "        vertical-align: middle;\n",
       "    }\n",
       "\n",
       "    .dataframe tbody tr th {\n",
       "        vertical-align: top;\n",
       "    }\n",
       "\n",
       "    .dataframe thead th {\n",
       "        text-align: right;\n",
       "    }\n",
       "</style>\n",
       "<table border=\"1\" class=\"dataframe\">\n",
       "  <thead>\n",
       "    <tr style=\"text-align: right;\">\n",
       "      <th></th>\n",
       "      <th>financeStage</th>\n",
       "      <th>education</th>\n",
       "      <th>min_salary</th>\n",
       "      <th>max_salary</th>\n",
       "      <th>companySize</th>\n",
       "      <th>workYear</th>\n",
       "      <th>district</th>\n",
       "    </tr>\n",
       "  </thead>\n",
       "  <tbody>\n",
       "    <tr>\n",
       "      <th>0</th>\n",
       "      <td>6.0</td>\n",
       "      <td>2.0</td>\n",
       "      <td>20</td>\n",
       "      <td>40</td>\n",
       "      <td>1250.0</td>\n",
       "      <td>0.0</td>\n",
       "      <td>0</td>\n",
       "    </tr>\n",
       "    <tr>\n",
       "      <th>1</th>\n",
       "      <td>4.0</td>\n",
       "      <td>2.0</td>\n",
       "      <td>15</td>\n",
       "      <td>30</td>\n",
       "      <td>325.0</td>\n",
       "      <td>2.0</td>\n",
       "      <td>1</td>\n",
       "    </tr>\n",
       "    <tr>\n",
       "      <th>2</th>\n",
       "      <td>0.0</td>\n",
       "      <td>1.0</td>\n",
       "      <td>12</td>\n",
       "      <td>16</td>\n",
       "      <td>100.0</td>\n",
       "      <td>2.0</td>\n",
       "      <td>0</td>\n",
       "    </tr>\n",
       "    <tr>\n",
       "      <th>3</th>\n",
       "      <td>4.0</td>\n",
       "      <td>2.0</td>\n",
       "      <td>20</td>\n",
       "      <td>30</td>\n",
       "      <td>100.0</td>\n",
       "      <td>2.0</td>\n",
       "      <td>0</td>\n",
       "    </tr>\n",
       "    <tr>\n",
       "      <th>4</th>\n",
       "      <td>3.0</td>\n",
       "      <td>2.0</td>\n",
       "      <td>15</td>\n",
       "      <td>30</td>\n",
       "      <td>32.5</td>\n",
       "      <td>0.0</td>\n",
       "      <td>1</td>\n",
       "    </tr>\n",
       "  </tbody>\n",
       "</table>\n",
       "</div>"
      ],
      "text/plain": [
       "   financeStage  education  min_salary  max_salary  companySize  workYear  \\\n",
       "0           6.0        2.0          20          40       1250.0       0.0   \n",
       "1           4.0        2.0          15          30        325.0       2.0   \n",
       "2           0.0        1.0          12          16        100.0       2.0   \n",
       "3           4.0        2.0          20          30        100.0       2.0   \n",
       "4           3.0        2.0          15          30         32.5       0.0   \n",
       "\n",
       "   district  \n",
       "0         0  \n",
       "1         1  \n",
       "2         0  \n",
       "3         0  \n",
       "4         1  "
      ]
     },
     "execution_count": 24,
     "metadata": {},
     "output_type": "execute_result"
    }
   ],
   "source": [
    "python_data.head()"
   ]
  },
  {
   "cell_type": "code",
   "execution_count": 7,
   "id": "3aada6c7",
   "metadata": {},
   "outputs": [
    {
     "data": {
      "image/png": "[encoded data removed]",
      "text/plain": [
       "<Figure size 432x360 with 1 Axes>"
      ]
     },
     "metadata": {
      "needs_background": "light"
     },
     "output_type": "display_data"
    }
   ],
   "source": [
    "criterions = ['mse', 'friedman_mse', 'mae', 'poisson']\n",
    "scores1 = []\n",
    "scores2 = []\n",
    "DT = DecisionTreeRegressor(criterion = 'mse', random_state = 16)\n",
    "score1 = cross_val_score(DT, X_train1, y_train1, cv = 10).mean()\n",
    "score2 = cross_val_score(DT, X_train2, y_train2, cv = 10).mean()\n",
    "scores1.append(score1)\n",
    "scores2.append(score2)\n",
    "DT = DecisionTreeRegressor(criterion = 'friedman_mse', random_state = 16)\n",
    "score1 = cross_val_score(DT, X_train1, y_train1, cv = 10).mean()\n",
    "score2 = cross_val_score(DT, X_train2, y_train2, cv = 10).mean()\n",
    "scores1.append(score1)\n",
    "scores2.append(score2)\n",
    "DT = DecisionTreeRegressor(criterion = 'mae', random_state = 16)\n",
    "score1 = cross_val_score(DT, X_train1, y_train1, cv = 10).mean()\n",
    "score2 = cross_val_score(DT, X_train2, y_train2, cv = 10).mean()\n",
    "scores1.append(score1)\n",
    "scores2.append(score2)\n",
    "DT = DecisionTreeRegressor(criterion = 'poisson', random_state = 16)\n",
    "score1 = cross_val_score(DT, X_train1, y_train1, cv = 10).mean()\n",
    "score2 = cross_val_score(DT, X_train2, y_train2, cv = 10).mean()\n",
    "scores1.append(score1)\n",
    "scores2.append(score2)\n",
    "\n",
    "plt.figure(figsize = (6, 5))\n",
    "plt.rcParams[\"font.sans-serif\"] = \"SimHei\"\n",
    "plt.rcParams[\"axes.unicode_minus\"] = False\n",
    "x_labels = criterions\n",
    "# 生成横坐标范围\n",
    "x = np.arange(4)\n",
    "# 生成多柱图\n",
    "plt.bar(x + 0.00, scores1, color='orange', width=0.3, label=\"mean_salary\")\n",
    "plt.bar(x + 0.30, scores2, color='royalblue', width=0.3, label=\"offset\")\n",
    "# 横坐标绑定\n",
    "plt.xticks(x + 0.15, x_labels)\n",
    "plt.xlabel(\"criterion\")\n",
    "plt.ylabel(\"score\")\n",
    "plt.title('python_data决策树criterion与对应得分')\n",
    "# 生成图片\n",
    "plt.legend()\n",
    "plt.savefig(\"python_data决策树criterion与对应得分.png\")"
   ]
  },
  {
   "cell_type": "code",
   "execution_count": 11,
   "id": "61e52890",
   "metadata": {},
   "outputs": [
    {
     "name": "stdout",
     "output_type": "stream",
     "text": [
      "最优参数以及最高得分为: [2.         0.20948548]\n",
      "最优参数以及最高得分为: [3.         0.11292382]\n"
     ]
    },
    {
     "data": {
      "image/png": "[encoded data removed]",
      "text/plain": [
       "<Figure size 936x216 with 1 Axes>"
      ]
     },
     "metadata": {
      "needs_background": "light"
     },
     "output_type": "display_data"
    },
    {
     "data": {
      "text/plain": [
       "<Figure size 432x288 with 0 Axes>"
      ]
     },
     "metadata": {},
     "output_type": "display_data"
    }
   ],
   "source": [
    "ScoreAll1 = []\n",
    "ScoreAll2 = []\n",
    "for i in range(1,20,1):\n",
    "    DT = DecisionTreeRegressor(criterion = 'mse', max_depth = i, random_state = 16)\n",
    "    score1 = cross_val_score(DT,X_train1,y_train1,cv=10).mean()\n",
    "    score2 = cross_val_score(DT,X_train2,y_train2,cv=10).mean()\n",
    "    ScoreAll1.append([i,score1])\n",
    "    ScoreAll2.append([i,score2])\n",
    "ScoreAll1 = np.array(ScoreAll1)\n",
    "ScoreAll2 = np.array(ScoreAll2)\n",
    "max_score1 = np.where(ScoreAll1==np.max(ScoreAll1[:,1]))[0][0]\n",
    "max_score2 = np.where(ScoreAll2==np.max(ScoreAll2[:,1]))[0][0]\n",
    "print(\"最优参数以及最高得分为:\",ScoreAll1[max_score1])  \n",
    "print(\"最优参数以及最高得分为:\",ScoreAll2[max_score2])  \n",
    "plt.figure(figsize=[13,3])\n",
    "plt.xlabel(\"max_depth\")\n",
    "plt.ylabel(\"score\")\n",
    "plt.plot(ScoreAll1[:,0],ScoreAll1[:,1], label=\"mean_salary\")\n",
    "plt.plot(ScoreAll2[:,0],ScoreAll2[:,1], label=\"offset\")\n",
    "plt.legend()\n",
    "plt.title('python_data决策树max_depth与对应得分（2）')\n",
    "plt.show()\n",
    "plt.savefig(\"java_data决策树max_depth与对应得分（1）.png\")"
   ]
  },
  {
   "cell_type": "code",
   "execution_count": 12,
   "id": "f60aa2cb",
   "metadata": {},
   "outputs": [
    {
     "name": "stdout",
     "output_type": "stream",
     "text": [
      "最优参数以及最高得分为: [2.         0.20948548]\n",
      "最优参数以及最高得分为: [2.         0.11292382]\n"
     ]
    },
    {
     "data": {
      "image/png": "[encoded data removed]",
      "text/plain": [
       "<Figure size 936x216 with 1 Axes>"
      ]
     },
     "metadata": {
      "needs_background": "light"
     },
     "output_type": "display_data"
    },
    {
     "data": {
      "text/plain": [
       "<Figure size 432x288 with 0 Axes>"
      ]
     },
     "metadata": {},
     "output_type": "display_data"
    }
   ],
   "source": [
    "ScoreAll1 = []\n",
    "ScoreAll2 = []\n",
    "for i in range(2,40,1):\n",
    "    DT1 = DecisionTreeRegressor(criterion = 'mse', max_depth = 2, min_samples_split = i, random_state = 16)\n",
    "    DT2 = DecisionTreeRegressor(criterion = 'mse', max_depth = 3, min_samples_split = i, random_state = 16)\n",
    "    score1 = cross_val_score(DT1,X_train1,y_train1,cv=10).mean()\n",
    "    score2 = cross_val_score(DT2,X_train2,y_train2,cv=10).mean()\n",
    "    ScoreAll1.append([i,score1])\n",
    "    ScoreAll2.append([i,score2])\n",
    "ScoreAll1 = np.array(ScoreAll1)\n",
    "ScoreAll2 = np.array(ScoreAll2)\n",
    "max_score1 = np.where(ScoreAll1==np.max(ScoreAll1[:,1]))[0][0]\n",
    "max_score2 = np.where(ScoreAll2==np.max(ScoreAll2[:,1]))[0][0]\n",
    "print(\"最优参数以及最高得分为:\",ScoreAll1[max_score1])  \n",
    "print(\"最优参数以及最高得分为:\",ScoreAll2[max_score2])  \n",
    "plt.figure(figsize=[13,3])\n",
    "plt.xlabel(\"min_samples_split\")\n",
    "plt.ylabel(\"score\")\n",
    "plt.plot(ScoreAll1[:,0],ScoreAll1[:,1], label=\"mean_salary\")\n",
    "plt.plot(ScoreAll2[:,0],ScoreAll2[:,1], label=\"offset\")\n",
    "plt.legend()\n",
    "plt.title('python_data决策树min_samples_split与对应得分')\n",
    "plt.show()\n",
    "plt.savefig(\"java_data决策树min_samples_split与对应得分.png\")"
   ]
  },
  {
   "cell_type": "code",
   "execution_count": 13,
   "id": "a19fdb25",
   "metadata": {
    "scrolled": true
   },
   "outputs": [
    {
     "name": "stdout",
     "output_type": "stream",
     "text": [
      "最优参数以及最高得分为: [23.          0.21671553]\n",
      "最优参数以及最高得分为: [3.         0.11764539]\n"
     ]
    },
    {
     "data": {
      "image/png": "[encoded data removed]",
      "text/plain": [
       "<Figure size 936x216 with 1 Axes>"
      ]
     },
     "metadata": {
      "needs_background": "light"
     },
     "output_type": "display_data"
    },
    {
     "data": {
      "text/plain": [
       "<Figure size 432x288 with 0 Axes>"
      ]
     },
     "metadata": {},
     "output_type": "display_data"
    }
   ],
   "source": [
    "ScoreAll1 = []\n",
    "ScoreAll2 = []\n",
    "for i in range(1,30,1):\n",
    "    DT1 = DecisionTreeRegressor(criterion = 'mse', max_depth = 2, min_samples_split = 2, min_samples_leaf = i, random_state = 16)\n",
    "    DT2 = DecisionTreeRegressor(criterion = 'mse', max_depth = 3, min_samples_split = 2, min_samples_leaf = i, random_state = 16)\n",
    "    score1 = cross_val_score(DT1,X_train1,y_train1,cv=10).mean()\n",
    "    score2 = cross_val_score(DT2,X_train2,y_train2,cv=10).mean()\n",
    "    ScoreAll1.append([i,score1])\n",
    "    ScoreAll2.append([i,score2])\n",
    "ScoreAll1 = np.array(ScoreAll1)\n",
    "ScoreAll2 = np.array(ScoreAll2)\n",
    "max_score1 = np.where(ScoreAll1==np.max(ScoreAll1[:,1]))[0][0]\n",
    "max_score2 = np.where(ScoreAll2==np.max(ScoreAll2[:,1]))[0][0]\n",
    "print(\"最优参数以及最高得分为:\",ScoreAll1[max_score1])  \n",
    "print(\"最优参数以及最高得分为:\",ScoreAll2[max_score2])  \n",
    "plt.figure(figsize=[13,3])\n",
    "plt.xlabel(\"min_samples_leaf\")\n",
    "plt.ylabel(\"score\")\n",
    "plt.plot(ScoreAll1[:,0],ScoreAll1[:,1], label=\"mean_salary\")\n",
    "plt.plot(ScoreAll2[:,0],ScoreAll2[:,1], label=\"offset\")\n",
    "plt.legend()\n",
    "plt.title('python_data决策树min_samples_leaf与对应得分')\n",
    "plt.show()\n",
    "plt.savefig(\"java_data决策树min_samples_leaf与对应得分.png\")"
   ]
  },
  {
   "cell_type": "code",
   "execution_count": 14,
   "id": "9bb7a5a3",
   "metadata": {},
   "outputs": [
    {
     "name": "stdout",
     "output_type": "stream",
     "text": [
      "最优模型各参数的取值为： {'criterion': 'mse', 'max_depth': 2, 'min_samples_leaf': 18, 'min_samples_split': 20, 'random_state': 16}\n",
      "此时模型的得分为： 0.21395708265942193\n"
     ]
    }
   ],
   "source": [
    "parameters = {'criterion':['mse'],\n",
    "              'max_depth':range(1, 20),\n",
    "              'min_samples_split':range(20, 40),\n",
    "              'min_samples_leaf':range(1, 20),\n",
    "              'random_state':[16]}\n",
    "DT = DecisionTreeRegressor()\n",
    "gsearch = GridSearchCV(DT, parameters, cv = 10)\n",
    "gsearch.fit(X_train1, y_train1)\n",
    "print('最优模型各参数的取值为：',gsearch.best_params_)\n",
    "print('此时模型的得分为：',gsearch.best_score_)"
   ]
  },
  {
   "cell_type": "code",
   "execution_count": 15,
   "id": "30cddd88",
   "metadata": {},
   "outputs": [
    {
     "name": "stdout",
     "output_type": "stream",
     "text": [
      "最优模型各参数的取值为： {'criterion': 'mse', 'max_depth': 5, 'min_samples_leaf': 3, 'min_samples_split': 21, 'random_state': 16}\n",
      "此时模型的得分为： 0.12771791579231256\n"
     ]
    }
   ],
   "source": [
    "parameters = {'criterion':['mse'],\n",
    "              'max_depth':range(1, 20),\n",
    "              'min_samples_split':range(20, 40),\n",
    "              'min_samples_leaf':range(1, 20),\n",
    "              'random_state':[16]}\n",
    "DT = DecisionTreeRegressor()\n",
    "gsearch = GridSearchCV(DT, parameters, cv = 10)\n",
    "gsearch.fit(X_train2, y_train2)\n",
    "print('最优模型各参数的取值为：',gsearch.best_params_)\n",
    "print('此时模型的得分为：',gsearch.best_score_)"
   ]
  },
  {
   "cell_type": "code",
   "execution_count": 26,
   "id": "f68be026",
   "metadata": {},
   "outputs": [
    {
     "name": "stdout",
     "output_type": "stream",
     "text": [
      "python_data数据集预测mean_salary：\n",
      "预测r2为： 0.2579614789004744\n",
      "预测adjusted_r2为： 0.2270432071879942\n",
      "python_data数据集预测offset：\n",
      "预测r2为： 0.20702686622594202\n",
      "预测adjusted_r2为： 0.17398631898535633\n"
     ]
    }
   ],
   "source": [
    "from sklearn.metrics import mean_squared_error #均方误差\n",
    "from sklearn.metrics import mean_absolute_error #平方绝对误差\n",
    "from sklearn.metrics import r2_score#R square\n",
    "dt = DecisionTreeRegressor(criterion= 'mse', max_depth = 2, min_samples_leaf = 23, min_samples_split = 2, random_state = 16)\n",
    "dt.fit(X_train1, y_train1)\n",
    "y_pre1 = dt.predict(X_test1)\n",
    "print('python_data数据集预测mean_salary：')\n",
    "print('预测r2为：',r2_score(y_test1,y_pre1))\n",
    "print('预测adjusted_r2为：',1-((1-r2_score(y_test1,y_pre1))*125/120))\n",
    "dt = DecisionTreeRegressor(criterion= 'mse', max_depth = 5, min_samples_leaf = 3, min_samples_split = 21, random_state = 16)\n",
    "dt.fit(X_train2, y_train2)\n",
    "y_pre2 = dt.predict(X_test2)\n",
    "print('python_data数据集预测offset：')\n",
    "print('预测r2为：',r2_score(y_test2,y_pre2))\n",
    "print('预测adjusted_r2为：',1-((1-r2_score(y_test2,y_pre2))*125/120))"
   ]
  },
  {
   "cell_type": "code",
   "execution_count": 20,
   "id": "df6e76d0",
   "metadata": {},
   "outputs": [
    {
     "name": "stdout",
     "output_type": "stream",
     "text": [
      "该岗位的预测薪资为 15125.0 元到 25500.0 元\n"
     ]
    }
   ],
   "source": [
    "dt1 = DecisionTreeRegressor(criterion= 'mse', max_depth = 2, min_samples_leaf = 23, min_samples_split = 2, random_state = 16)\n",
    "dt1.fit(X_train1, y_train1)\n",
    "apply = np.array([7, #上市公司融资阶段对应financeStage为7\n",
    "                  2, #本科学历对应education为2\n",
    "                  (150+500)/2, #公司规模companySize为范围极值的平均值\n",
    "                  (1+3)/2, #工作经历workYear为范围极值的平均值\n",
    "                  0 #海淀区对应district为0\n",
    "])\n",
    "dt2 = DecisionTreeRegressor(criterion= 'mse', max_depth = 5, min_samples_leaf = 3, min_samples_split = 21, random_state = 16)\n",
    "dt2.fit(X_train2, y_train2)\n",
    "pre1 = dt1.predict(apply.reshape(1, -1))\n",
    "pre2 = dt2.predict(apply.reshape(1, -1))\n",
    "print('该岗位的预测薪资为', (pre1[0] - pre2[0]) * 1000, '元到', (pre1[0] + pre2[0]) * 1000, '元')"
   ]
  }
 ],
 "metadata": {
  "kernelspec": {
   "display_name": "Python 3",
   "language": "python",
   "name": "python3"
  },
  "language_info": {
   "codemirror_mode": {
    "name": "ipython",
    "version": 3
   },
   "file_extension": ".py",
   "mimetype": "text/x-python",
   "name": "python",
   "nbconvert_exporter": "python",
   "pygments_lexer": "ipython3",
   "version": "3.8.8"
  }
 },
 "nbformat": 4,
 "nbformat_minor": 5
}
